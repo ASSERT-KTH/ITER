{
 "cells": [
  {
   "cell_type": "code",
   "execution_count": null,
   "id": "aab2a4a4",
   "metadata": {},
   "outputs": [],
   "source": [
    "import os\n",
    "with open ('results.csv','r') as res:\n",
    "    lines = res.readlines()\n",
    "    for l in lines:\n",
    "        print(l)\n",
    "    \n",
    "\n"
   ]
  },
  {
   "cell_type": "code",
   "execution_count": null,
   "id": "712dcf25",
   "metadata": {},
   "outputs": [],
   "source": []
  }
 ],
 "metadata": {
  "kernelspec": {
   "display_name": "Python 3 (ipykernel)",
   "language": "python",
   "name": "python3"
  }
 },
 "nbformat": 4,
 "nbformat_minor": 5
}
